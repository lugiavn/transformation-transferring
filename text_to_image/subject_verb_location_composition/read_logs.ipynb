{
 "cells": [
  {
   "cell_type": "code",
   "execution_count": 1,
   "metadata": {},
   "outputs": [],
   "source": [
    "import numpy as np\n",
    "import tensorflow as tf\n",
    "import os"
   ]
  },
  {
   "cell_type": "code",
   "execution_count": null,
   "metadata": {},
   "outputs": [],
   "source": []
  },
  {
   "cell_type": "code",
   "execution_count": 2,
   "metadata": {},
   "outputs": [
    {
     "name": "stdout",
     "output_type": "stream",
     "text": [
      ".ipynb_checkpoints\n",
      "Aug22_07-48-19_tensorflow-1-vmx\n",
      "events.out.tfevents.1566460099.tensorflow-1-vm Aug22_07-48-19_tensorflow-1-vmx\n",
      "Aug22_19-29-20_tensorflow-1-vmx\n",
      "events.out.tfevents.1566502160.tensorflow-1-vm Aug22_19-29-20_tensorflow-1-vmx\n",
      "Aug22_16-32-22_tensorflow-1-vmx\n",
      "events.out.tfevents.1566491542.tensorflow-1-vm Aug22_16-32-22_tensorflow-1-vmx\n",
      "Aug22_10-42-40_tensorflow-1-vmx\n",
      "events.out.tfevents.1566470560.tensorflow-1-vm Aug22_10-42-40_tensorflow-1-vmx\n",
      "Aug22_13-36-39_tensorflow-1-vmx\n",
      "events.out.tfevents.1566480999.tensorflow-1-vm Aug22_13-36-39_tensorflow-1-vmx\n",
      "['runs/Aug22_07-48-19_tensorflow-1-vmx/events.out.tfevents.1566460099.tensorflow-1-vm', 'runs/Aug22_19-29-20_tensorflow-1-vmx/events.out.tfevents.1566502160.tensorflow-1-vm', 'runs/Aug22_16-32-22_tensorflow-1-vmx/events.out.tfevents.1566491542.tensorflow-1-vm', 'runs/Aug22_10-42-40_tensorflow-1-vmx/events.out.tfevents.1566470560.tensorflow-1-vm', 'runs/Aug22_13-36-39_tensorflow-1-vmx/events.out.tfevents.1566480999.tensorflow-1-vm']\n"
     ]
    }
   ],
   "source": [
    "log_folder = 'runs'\n",
    "log_files = []\n",
    "\n",
    "for d in os.listdir(log_folder):\n",
    "    print d\n",
    "    for f in os.listdir(log_folder + '/' + d):\n",
    "        print f, d\n",
    "        log_files += [log_folder + '/' + d + '/' + f]\n",
    "print log_files"
   ]
  },
  {
   "cell_type": "code",
   "execution_count": 3,
   "metadata": {},
   "outputs": [
    {
     "name": "stderr",
     "output_type": "stream",
     "text": [
      "WARNING: Logging before flag parsing goes to stderr.\n",
      "W0823 06:50:50.074986 140317926622656 deprecation.py:323] From /usr/local/lib/python2.7/dist-packages/tensorflow/python/summary/summary_iterator.py:68: tf_record_iterator (from tensorflow.python.lib.io.tf_record) is deprecated and will be removed in a future version.\n",
      "Instructions for updating:\n",
      "Use eager execution and: \n",
      "`tf.data.TFRecordDataset(path)`\n"
     ]
    },
    {
     "name": "stdout",
     "output_type": "stream",
     "text": [
      "truncated record at 117681\n"
     ]
    }
   ],
   "source": [
    "metric_name_2_values = {}\n",
    "\n",
    "for path in log_files:\n",
    "    try:\n",
    "        for summary in tf.train.summary_iterator(path):\n",
    "            pass\n",
    "            if summary.step == 49:\n",
    "                try:\n",
    "                    metric_name_2_values[summary.summary.value[0].tag] += [summary.summary.value[0].simple_value]\n",
    "                except:\n",
    "                    metric_name_2_values[summary.summary.value[0].tag] = [summary.summary.value[0].simple_value]\n",
    "    except Exception as e:\n",
    "        print e\n",
    "        pass"
   ]
  },
  {
   "cell_type": "code",
   "execution_count": 4,
   "metadata": {},
   "outputs": [
    {
     "name": "stdout",
     "output_type": "stream",
     "text": [
      "SimpleImageCaptions112_svl_tii_recall_top5 \t\t53.5±0.9\n",
      "SimpleImageCaptions112_svl_tii_recall_top1 \t\t21.0±0.3\n",
      "SimpleImageCaptions112_svl_iit_recall_top5 \t\t55.4±1.0\n",
      "SimpleImageCaptions112_svl_tit_recall_top10 \t\t80.6±1.0\n",
      "SimpleImageCaptions112_svl_tii_recall_top10 \t\t68.7±1.1\n",
      "SimpleImageCaptions112_svl_tti_recall_top1 \t\t28.5±1.8\n",
      "SimpleImageCaptions112_svl_tti_recall_top5 \t\t68.4±1.8\n",
      "SimpleImageCaptions112_svl_itt_recall_top1 \t\t28.2±1.1\n",
      "extract \t\t211.6±0.9\n",
      "joint_embedding \t\t22.4±0.8\n",
      "SimpleImageCaptions112_svl_itt_recall_top5 \t\t67.7±1.8\n",
      "SimpleImageCaptions112_svl_tit_recall_top1 \t\t27.2±0.7\n",
      "SimpleImageCaptions112_svl_tit_recall_top5 \t\t65.5±1.2\n",
      "SimpleImageCaptions112_svl_iti_recall_top10 \t\t70.8±1.2\n",
      "SimpleImageCaptions112_svl_itt_recall_top10 \t\t82.1±1.8\n",
      "SimpleImageCaptions112_svl_iii_recall_top5 \t\t45.3±1.0\n",
      "SimpleImageCaptions112_svl_iii_recall_top1 \t\t16.6±0.4\n",
      "compose1 \t\t19.4±1.0\n",
      "compose2 \t\t70.1±1.0\n",
      "SimpleImageCaptions112_svl_iti_recall_top5 \t\t56.1±1.5\n",
      "SimpleImageCaptions112_svl_iit_recall_top10 \t\t70.7±1.2\n",
      "SimpleImageCaptions112_svl_iti_recall_top1 \t\t22.5±0.8\n",
      "SimpleImageCaptions112_svl_ttt_recall_top5 \t\t80.8±4.3\n",
      "SimpleImageCaptions112_svl_ttt_recall_top1 \t\t33.8±2.5\n",
      "SimpleImageCaptions112_svl_iit_recall_top1 \t\t21.9±0.4\n",
      "total_training_loss \t\t196.9±8.6\n",
      "SimpleImageCaptions112_svl_iii_recall_top10 \t\t60.4±0.8\n",
      "SimpleImageCaptions112_text2image_recall_top1 \t\t33.2±3.1\n",
      "SimpleImageCaptions112_svl_tti_recall_top10 \t\t82.2±1.5\n",
      "CocoCapTrain_text2image_recall_top1 \t\t37.1±0.3\n",
      "SimpleImageCaptions112_svl_ttt_recall_top10 \t\t92.1±3.7\n"
     ]
    }
   ],
   "source": [
    "for name in metric_name_2_values:\n",
    "   print name,  '\\t\\t', '{:.1f}±{:.1f}'.format(np.mean(metric_name_2_values[name]) * 100, np.std(metric_name_2_values[name]) * 100)"
   ]
  },
  {
   "cell_type": "code",
   "execution_count": 5,
   "metadata": {},
   "outputs": [
    {
     "name": "stdout",
     "output_type": "stream",
     "text": [
      "ttt --------------------\n",
      "1 \t\t33.8±2.5\n",
      "5 \t\t80.8±4.3\n",
      "10 \t\t92.1±3.7\n",
      "tti --------------------\n",
      "1 \t\t28.5±1.8\n",
      "5 \t\t68.4±1.8\n",
      "10 \t\t82.2±1.5\n",
      "tit --------------------\n",
      "1 \t\t27.2±0.7\n",
      "5 \t\t65.5±1.2\n",
      "10 \t\t80.6±1.0\n",
      "tii --------------------\n",
      "1 \t\t21.0±0.3\n",
      "5 \t\t53.5±0.9\n",
      "10 \t\t68.7±1.1\n",
      "itt --------------------\n",
      "1 \t\t28.2±1.1\n",
      "5 \t\t67.7±1.8\n",
      "10 \t\t82.1±1.8\n",
      "iti --------------------\n",
      "1 \t\t22.5±0.8\n",
      "5 \t\t56.1±1.5\n",
      "10 \t\t70.8±1.2\n",
      "iit --------------------\n",
      "1 \t\t21.9±0.4\n",
      "5 \t\t55.4±1.0\n",
      "10 \t\t70.7±1.2\n",
      "iii --------------------\n",
      "1 \t\t16.6±0.4\n",
      "5 \t\t45.3±1.0\n",
      "10 \t\t60.4±0.8\n"
     ]
    }
   ],
   "source": [
    "for s in ['t', 'i']:\n",
    "    for v in ['t', 'i']:\n",
    "        for l in ['t', 'i']:\n",
    "            svl = s + v + l\n",
    "            print svl, '--------------------'\n",
    "            for k in [1, 5, 10]:\n",
    "                for name in metric_name_2_values:\n",
    "                    if (svl in name) and name.endswith(str(k)):\n",
    "                        print k, '\\t\\t', '{:.1f}±{:.1f}'.format(np.mean(metric_name_2_values[name]) * 100, np.std(metric_name_2_values[name]) * 100)"
   ]
  },
  {
   "cell_type": "code",
   "execution_count": null,
   "metadata": {},
   "outputs": [],
   "source": []
  },
  {
   "cell_type": "code",
   "execution_count": null,
   "metadata": {},
   "outputs": [],
   "source": []
  },
  {
   "cell_type": "code",
   "execution_count": null,
   "metadata": {},
   "outputs": [],
   "source": []
  },
  {
   "cell_type": "code",
   "execution_count": null,
   "metadata": {},
   "outputs": [],
   "source": []
  },
  {
   "cell_type": "code",
   "execution_count": null,
   "metadata": {},
   "outputs": [],
   "source": []
  },
  {
   "cell_type": "code",
   "execution_count": null,
   "metadata": {},
   "outputs": [],
   "source": []
  },
  {
   "cell_type": "code",
   "execution_count": null,
   "metadata": {},
   "outputs": [],
   "source": []
  },
  {
   "cell_type": "code",
   "execution_count": null,
   "metadata": {},
   "outputs": [],
   "source": []
  },
  {
   "cell_type": "code",
   "execution_count": null,
   "metadata": {},
   "outputs": [],
   "source": []
  },
  {
   "cell_type": "code",
   "execution_count": null,
   "metadata": {},
   "outputs": [],
   "source": []
  },
  {
   "cell_type": "code",
   "execution_count": null,
   "metadata": {},
   "outputs": [],
   "source": []
  }
 ],
 "metadata": {
  "kernelspec": {
   "display_name": "Python 2",
   "language": "python",
   "name": "python2"
  },
  "language_info": {
   "codemirror_mode": {
    "name": "ipython",
    "version": 2
   },
   "file_extension": ".py",
   "mimetype": "text/x-python",
   "name": "python",
   "nbconvert_exporter": "python",
   "pygments_lexer": "ipython2",
   "version": "2.7.13"
  }
 },
 "nbformat": 4,
 "nbformat_minor": 2
}
