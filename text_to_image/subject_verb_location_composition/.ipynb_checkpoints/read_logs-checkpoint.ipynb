{
 "cells": [
  {
   "cell_type": "code",
   "execution_count": 19,
   "metadata": {},
   "outputs": [],
   "source": [
    "import numpy as np\n",
    "import tensorflow as tf\n",
    "import os"
   ]
  },
  {
   "cell_type": "code",
   "execution_count": 22,
   "metadata": {},
   "outputs": [
    {
     "data": {
      "text/plain": [
       "['.ipynb_checkpoints',\n",
       " 'Aug22_07-48-19_tensorflow-1-vmx',\n",
       " 'Aug22_19-29-20_tensorflow-1-vmx',\n",
       " 'Aug22_16-32-22_tensorflow-1-vmx',\n",
       " 'Aug22_10-42-40_tensorflow-1-vmx',\n",
       " 'Aug22_13-36-39_tensorflow-1-vmx']"
      ]
     },
     "execution_count": 22,
     "metadata": {},
     "output_type": "execute_result"
    }
   ],
   "source": [
    "os.listdir(log_folder)"
   ]
  },
  {
   "cell_type": "code",
   "execution_count": 27,
   "metadata": {},
   "outputs": [
    {
     "name": "stdout",
     "output_type": "stream",
     "text": [
      "['./runs/Aug22_07-48-19_tensorflow-1-vmx/events.out.tfevents.1566480999.tensorflow-1-vm', './runs/Aug22_19-29-20_tensorflow-1-vmx/events.out.tfevents.1566480999.tensorflow-1-vm', './runs/Aug22_16-32-22_tensorflow-1-vmx/events.out.tfevents.1566480999.tensorflow-1-vm', './runs/Aug22_10-42-40_tensorflow-1-vmx/events.out.tfevents.1566480999.tensorflow-1-vm', './runs/Aug22_13-36-39_tensorflow-1-vmx/events.out.tfevents.1566480999.tensorflow-1-vm']\n"
     ]
    }
   ],
   "source": [
    "log_folder = './runs'\n",
    "log_files = []\n",
    "\n",
    "for d in os.listdir(log_folder):\n",
    "    for f in os.listdir(log_folder + '/' + d):\n",
    "        log_files += [log_folder + '/' + d + '/' + k]\n",
    "print log_files"
   ]
  },
  {
   "cell_type": "code",
   "execution_count": 16,
   "metadata": {},
   "outputs": [
    {
     "data": {
      "text/plain": [
       "wall_time: 1566470557.63\n",
       "step: 50\n",
       "summary {\n",
       "  value {\n",
       "    tag: \"SimpleImageCaptions112_svl_iii_recall_top10\"\n",
       "    simple_value: 0.583670973778\n",
       "  }\n",
       "}"
      ]
     },
     "execution_count": 16,
     "metadata": {},
     "output_type": "execute_result"
    }
   ],
   "source": [
    "metric_name_2_values = {}\n",
    "\n"
   ]
  },
  {
   "cell_type": "code",
   "execution_count": null,
   "metadata": {},
   "outputs": [],
   "source": []
  },
  {
   "cell_type": "code",
   "execution_count": null,
   "metadata": {},
   "outputs": [],
   "source": [
    "\n",
    "path = \"runs/Aug22_07-48-19_tensorflow-1-vmx/events.out.tfevents.1566460099.tensorflow-1-vm\"\n",
    "for summary in tf.train.summary_iterator(path):\n",
    "    pass"
   ]
  },
  {
   "cell_type": "code",
   "execution_count": null,
   "metadata": {},
   "outputs": [],
   "source": []
  },
  {
   "cell_type": "code",
   "execution_count": null,
   "metadata": {},
   "outputs": [],
   "source": []
  },
  {
   "cell_type": "code",
   "execution_count": null,
   "metadata": {},
   "outputs": [],
   "source": []
  },
  {
   "cell_type": "code",
   "execution_count": null,
   "metadata": {},
   "outputs": [],
   "source": []
  },
  {
   "cell_type": "code",
   "execution_count": null,
   "metadata": {},
   "outputs": [],
   "source": []
  },
  {
   "cell_type": "code",
   "execution_count": null,
   "metadata": {},
   "outputs": [],
   "source": []
  },
  {
   "cell_type": "code",
   "execution_count": null,
   "metadata": {},
   "outputs": [],
   "source": []
  },
  {
   "cell_type": "code",
   "execution_count": null,
   "metadata": {},
   "outputs": [],
   "source": []
  },
  {
   "cell_type": "code",
   "execution_count": null,
   "metadata": {},
   "outputs": [],
   "source": []
  },
  {
   "cell_type": "code",
   "execution_count": null,
   "metadata": {},
   "outputs": [],
   "source": []
  }
 ],
 "metadata": {
  "kernelspec": {
   "display_name": "Python 2",
   "language": "python",
   "name": "python2"
  },
  "language_info": {
   "codemirror_mode": {
    "name": "ipython",
    "version": 2
   },
   "file_extension": ".py",
   "mimetype": "text/x-python",
   "name": "python",
   "nbconvert_exporter": "python",
   "pygments_lexer": "ipython2",
   "version": "2.7.13"
  }
 },
 "nbformat": 4,
 "nbformat_minor": 2
}
